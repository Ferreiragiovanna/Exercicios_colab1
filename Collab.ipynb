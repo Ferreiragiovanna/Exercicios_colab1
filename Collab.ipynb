{
  "nbformat": 4,
  "nbformat_minor": 0,
  "metadata": {
    "colab": {
      "provenance": []
    },
    "kernelspec": {
      "name": "python3",
      "display_name": "Python 3"
    },
    "language_info": {
      "name": "python"
    }
  },
  "cells": [
    {
      "cell_type": "markdown",
      "source": [],
      "metadata": {
        "id": "jU4Dge1xoSrp"
      }
    },
    {
      "cell_type": "code",
      "source": [
        "maior_numero = 0\n",
        "for contador in range(5):\n",
        "  numero = int(input(\"Digite um numero\"))\n",
        "  if numero > maior_numero:\n",
        "   maior_numero = numero\n",
        "  print(maior_numero)\n",
        "\n"
      ],
      "metadata": {
        "id": "F0NwLCwrUgFe"
      },
      "execution_count": null,
      "outputs": []
    },
    {
      "cell_type": "code",
      "source": [
        "for contador in range(1000, 2001):\n",
        "  if contador % 11 ==2:\n",
        "    print(contador)"
      ],
      "metadata": {
        "id": "yFzsFdLfWugS"
      },
      "execution_count": null,
      "outputs": []
    },
    {
      "cell_type": "code",
      "source": [
        "soma = 0\n",
        "for I in range(5):\n",
        " numero = float(input(f\"Digite o {I+1}° \"))\n",
        " soma += numero\n",
        " media = soma/5\n",
        "\n",
        "print(f\"A soma dos numeros é:{soma}\")\n",
        "print(f\"A media dos numero é:{media}\")"
      ],
      "metadata": {
        "id": "khmRIuEzXZLu"
      },
      "execution_count": null,
      "outputs": []
    },
    {
      "cell_type": "code",
      "source": [
        "numero = int(input(\"Digite o numero da tabuada\"))\n",
        "for t in range(1, 11):\n",
        " resultado = numero * t\n",
        " print(f\"{numero} * {t} = {resultado}\")"
      ],
      "metadata": {
        "id": "2NfgYF0nac46"
      },
      "execution_count": null,
      "outputs": []
    },
    {
      "cell_type": "code",
      "source": [
        "for t in range(1, 11):\n",
        " for y in range(1, 11):\n",
        "\n",
        "  print(f\"{t} * {y} = {t * y}\")"
      ],
      "metadata": {
        "id": "A-Xjc2VwEvhG"
      },
      "execution_count": null,
      "outputs": []
    },
    {
      "cell_type": "code",
      "source": [
        "for i in range(1,21):\n",
        " print(i)\n",
        "\n",
        "print(list(range(1, 21)))\n"
      ],
      "metadata": {
        "id": "daMtJZhDIzEh"
      },
      "execution_count": null,
      "outputs": []
    },
    {
      "cell_type": "code",
      "source": [
        "for i in range(1,52):\n",
        "  if i % 2 != 0:\n",
        "    print(i)"
      ],
      "metadata": {
        "id": "tWmKcYE9KAel"
      },
      "execution_count": null,
      "outputs": []
    },
    {
      "cell_type": "code",
      "source": [
        "n1= int(input(\"Digite um primeiro numero inteiro\"))\n",
        "n2= int(input(\"Digite um segundo numero inteiro\"))\n",
        "for i in range(n1+1, n2):\n",
        "  print(i)"
      ],
      "metadata": {
        "id": "giSE0q3yonet"
      },
      "execution_count": null,
      "outputs": []
    },
    {
      "cell_type": "code",
      "source": [
        "lojaA=0\n",
        "lojaB=54000\n",
        "\n",
        "for i in range(5):\n",
        "  valor=float(input(\"Digite um valor\"))\n",
        "lojaA += valor\n",
        "if lojaA > lojaB:\n",
        "  print(\"o faturamento da loja A é maior que lojaB\")\n",
        "elif lojaB > lojaB:\n",
        "  print(\"o faturamento da lojaB é maior q lojaA\")\n",
        "else:\n",
        "  print(\"o faturamento é igual\")"
      ],
      "metadata": {
        "id": "NqTzItrnQgta"
      },
      "execution_count": null,
      "outputs": []
    },
    {
      "cell_type": "code",
      "source": [
        "impar = 0\n",
        "par = 0\n",
        "for i in range(10):\n",
        "  numero = int(input(\"digite um valor\"))\n",
        "  if numero % 2 != 0:\n",
        "      impar += 1\n",
        "  if numero % 2 == 0:\n",
        "      par += 1\n",
        "\n",
        "\n",
        "\n",
        "print(f\"Numeros impares: {impar}, Numeros pares: {par}\")"
      ],
      "metadata": {
        "id": "L934Vwr1gr2D"
      },
      "execution_count": null,
      "outputs": []
    },
    {
      "cell_type": "code",
      "source": [
        "for i in range(10):\n",
        "    nota = int(input(\"Digite uma nota entre 0 e 10\"))\n",
        "    if nota < 0 or nota > 10:\n",
        "     print(f\"nota invalida {nota}\")\n",
        "    else:\n",
        "     print(f\"nota valida {nota}\")"
      ],
      "metadata": {
        "id": "fhGEoVD4n_id"
      },
      "execution_count": null,
      "outputs": []
    },
    {
      "cell_type": "code",
      "source": [
        "salario = float(input(\"digite o salario inicial do funcionario\"))\n",
        "percentual = 0.015\n",
        "\n",
        "for i in range(1996, 2025):\n",
        "  aumento = salario * percentual\n",
        "  salario += aumento\n",
        "  percentual *= 2\n",
        "  print(f\"salario em {i} = {salario:.2f}\")"
      ],
      "metadata": {
        "id": "n2Dr7zRJU6PY"
      },
      "execution_count": null,
      "outputs": []
    },
    {
      "cell_type": "code",
      "source": [
        "for i in range(10):\n",
        "  nota = int(input(\"digite uma nota entre 0 e 10\"))\n",
        "  if nota < 0 or nota > 10:\n",
        "    print(f\"nota invalida {nota}\")\n",
        "  else:\n",
        "    print(f\"nota valida {nota}\")\n",
        "    break"
      ],
      "metadata": {
        "id": "FmYb-K-F2eLw"
      },
      "execution_count": null,
      "outputs": []
    },
    {
      "cell_type": "code",
      "source": [
        "valor = float(input(\"Digite o valor da compra:\"))\n",
        "contagem = 1\n",
        "\n",
        "if valor >= 600 and contagem:\n",
        "  reduzido = valor - 500\n",
        "  if reduzido >= 100 or contagem <= 24:\n",
        "   for x in range(999):\n",
        "    contagem += 1\n",
        "   reduzido -= 100\n",
        "   if reduzido < 100 or contagem == 24:\n",
        "    break\n",
        "\n",
        "porcentagem = contagem/100\n",
        "desconto = valor * porcentagem\n",
        "final = valor - desconto\n",
        "print(f\"o produto de R${valor:.2f} ficará a partir de R${final} com {contagem:.0f}% de desconto\")"
      ],
      "metadata": {
        "id": "lYAeVgYJ467N"
      },
      "execution_count": null,
      "outputs": []
    },
    {
      "cell_type": "code",
      "source": [
        "idade1 = idade2 =idade3 = idade4 = idade5 = 0\n",
        "for i in range(15):\n",
        " idade = int(input(f\"digite uma idade{i+1}° \"))\n",
        " if idade <= 15:\n",
        "       idade1 += 1\n",
        " elif idade1 <= 30:\n",
        "       idade2 += 1\n",
        " elif idade <= 45:\n",
        "       idade3 += 1\n",
        " elif idade <= 60:\n",
        "       idade4 += 1\n",
        "\n",
        " else:\n",
        "      idade5 += 1\n",
        "\n",
        "total = (idade1 + idade2 + idade3 + idade4 + idade5)\n",
        "porcentagemidade1 = (idade1 / total) * 100\n",
        "porcentagemidade5 = (idade5 / total) * 100\n",
        "\n",
        "print(f\"quantidade de pessoa em cada faixa etaria:\")\n",
        "print(f\"ate 15 anos: {idade1}\")\n",
        "print(f\"de 16 a 30 anos: {idade2}\")\n",
        "print(f\"de 31 a 45 anos: {idade3}\")\n",
        "print(f\"de 46 a 60 anos: {idade4}\")\n",
        "print(f\"acima de 61 anos: {idade5}\")\n",
        "print(f\"porcentagem de pessoas ate 15 anos {porcentagemidade1:.2f}%, porcentagem de pessoas acima de 61 anos {porcentagemidade5:.2f}% \")\n",
        "\n"
      ],
      "metadata": {
        "id": "P96gWQCVw3Jd"
      },
      "execution_count": null,
      "outputs": []
    },
    {
      "cell_type": "code",
      "source": [
        "base = int(input(\"digite o numero da base: \"))\n",
        "expoente = int(input(\"digite o numero do expoente: \"))\n",
        "resultado = 1\n",
        "for i in range(expoente):\n",
        "  resultado *= base\n",
        "\n",
        "print(f\"o resultado de {base} elevado a {expoente} é: {resultado}\")"
      ],
      "metadata": {
        "id": "2E_MH5t2A5BM"
      },
      "execution_count": null,
      "outputs": []
    },
    {
      "cell_type": "code",
      "source": [
        "n = int(input(\"Digite um número: \"))\n",
        "\n",
        "for numero in range(1, n+1):\n",
        "  for divisor in range(numero):\n",
        "    print(f\"{numero}/{divisor+1} = {numero%(divisor+1)}\")\n",
        "    if numero % (divisor+1) == 0:\n",
        "     if 1 != divisor+1 != numero:\n",
        "      print(\"nao é primo\")\n",
        "      break\n",
        "    elif divisor+1 == numero:\n",
        "      print(\"e primo\")"
      ],
      "metadata": {
        "id": "6s-AP5hR6IR0"
      },
      "execution_count": null,
      "outputs": []
    },
    {
      "cell_type": "code",
      "source": [
        "idade = int(input(\"Digite sua idade\"))\n",
        "if idade >= 18:\n",
        "  print(\"voce pode votar na eleicao\")\n",
        "else:\n",
        "  print(\"voce nao pode votar \")"
      ],
      "metadata": {
        "colab": {
          "base_uri": "https://localhost:8080/"
        },
        "id": "bj3rRKMNb7dq",
        "outputId": "61d71cd6-8f10-4f95-db8a-f8d9045e5981"
      },
      "execution_count": null,
      "outputs": [
        {
          "output_type": "stream",
          "name": "stdout",
          "text": [
            "Digite sua idade19\n",
            "voce pode votar na eleicao\n"
          ]
        }
      ]
    },
    {
      "cell_type": "code",
      "source": [
        "numero = float(input(\"digite um numero\"))\n",
        "if numero > 0:\n",
        " print(\"o numero é positivo\")\n",
        "elif numero < 0:\n",
        " print(\"o numero é negativo\")"
      ],
      "metadata": {
        "colab": {
          "base_uri": "https://localhost:8080/"
        },
        "id": "nucT2bwacwDR",
        "outputId": "ceda931b-e9c5-4261-ce91-a496051ef178"
      },
      "execution_count": null,
      "outputs": [
        {
          "output_type": "stream",
          "name": "stdout",
          "text": [
            "digite um numero-5\n",
            "o numero é negativo\n"
          ]
        }
      ]
    },
    {
      "cell_type": "code",
      "source": [],
      "metadata": {
        "id": "c78plakhminl"
      },
      "execution_count": null,
      "outputs": []
    }
  ]
}