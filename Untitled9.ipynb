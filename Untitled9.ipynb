{
  "nbformat": 4,
  "nbformat_minor": 0,
  "metadata": {
    "colab": {
      "provenance": []
    },
    "kernelspec": {
      "name": "python3",
      "display_name": "Python 3"
    },
    "language_info": {
      "name": "python"
    }
  },
  "cells": [
    {
      "cell_type": "code",
      "execution_count": null,
      "metadata": {
        "id": "TspzE_rbXSeL"
      },
      "outputs": [],
      "source": [
        "nota = int(input(\"digite um numero entre zero e dez: \"))\n",
        "\n",
        "while nota <= 0 or nota > 10:\n",
        "\n",
        "    nota = int(input(\"digite um numero entre zero e dez: \"))\n",
        "print(\"nota válida\")\n"
      ]
    },
    {
      "cell_type": "code",
      "source": [
        "soma = 0\n",
        "contador = 0\n",
        "valor = float(input(\"digite uma nota: \"))\n",
        "\n",
        "while contador < valor:\n",
        "  nota = float(input(\"digite uma nota: \"))\n",
        "  contador += 1\n",
        "  soma += nota\n",
        "\n",
        "print(f\"o valor da media é {soma/valor}\")"
      ],
      "metadata": {
        "id": "lVz-ktPeZQXM"
      },
      "execution_count": null,
      "outputs": []
    },
    {
      "cell_type": "code",
      "source": [
        "usuario = float(input(\"digite o nome de usuario: \"))\n",
        "senha = float(input(\"digite a senha: \"))\n",
        "\n",
        "while usuario == senha:\n",
        "  print(\"usuario e senha invalidos\")\n",
        "  usuario = float(input(\"digite o nome de usuario:\"))\n",
        "  senha = float(input(\"digite a senha: \"))\n",
        "\n",
        "print(\"usuario e senha validos\")"
      ],
      "metadata": {
        "id": "GA6ic0kWdgsP"
      },
      "execution_count": null,
      "outputs": []
    },
    {
      "cell_type": "code",
      "source": [
        "salario_inicial = 1000\n",
        "aumento = 1.5 / 100\n",
        "ano_atual = 2024\n",
        "ano_inicial = 1995\n",
        "\n",
        "while ano_inicial != ano_atual:\n",
        "      ano_inicial +=1\n",
        "      salario_inicial += salario_inicial * aumento\n",
        "      aumento *= 2\n",
        "      print(f\"ano {ano_inicial} é de {salario_inicial:,.2f}\")\n",
        "\n",
        "\n"
      ],
      "metadata": {
        "id": "3lmrCBRRhoFs"
      },
      "execution_count": null,
      "outputs": []
    },
    {
      "cell_type": "code",
      "source": [
        "salario = float(input(\"digite o salario: \"))\n",
        "aumento = 1.5 / 100\n",
        "ano_atual = 2024\n",
        "ano_inicial = 1995\n",
        "\n",
        "while ano_inicial != ano_atual:\n",
        "      ano_inicial +=1\n",
        "      salario += salario * aumento\n",
        "      aumento *= 2\n",
        "      print(f\"ano {ano_inicial} é de {salario}\")"
      ],
      "metadata": {
        "id": "NezygGsx19Cf"
      },
      "execution_count": null,
      "outputs": []
    },
    {
      "cell_type": "code",
      "source": [
        "nome = input(\"Digite seu nome: \")\n",
        "while len(nome) <= 3:\n",
        " print(\"seu nome precisa ter mais de 3 caracteres\")\n",
        " nome = input(\"Digite seu nome: \")\n",
        "print(f\"seu nome é: {nome}\")\n",
        "\n",
        "idade = int(input(\"Digite sua idade: \"))\n",
        "while idade < 0 and idade > 150:\n",
        " print(\"idade inválida\")\n",
        " idade = int(input(\"Digite sua idade: \"))\n",
        "print(\"Sua idade é:\", idade)\n",
        "\n",
        "salario = int(input(\"digite seu salario: \"))\n",
        "while salario <= 0:\n",
        "  print(\"salario invalido: \")\n",
        "  salario = int(input(\"digite seu salario: \"))\n",
        "  print(f\"seu salario é: {salario}\")\n",
        "\n",
        "sexo = input(\"digite seu sexo: \")\n",
        "while sexo not in ['f', 'm']:\n",
        "    print(\"sexo invalido: \")\n",
        "    sexo = input(\"digite seu sexo: \")\n",
        "print(f\"seu sexo é: {sexo}\")\n",
        "\n",
        "estado_civil = input(\"digite seu estado civil: \")\n",
        "while estado_civil not in [\"s\" , \"c\" , \"v\" , \"d\"] :\n",
        "    print(f\"estado_civil invalido: \")\n",
        "    estado_civil = input(\"digite seu estado civil: \")\n",
        "    print(f\"estado civil é: {estado_civil}\")"
      ],
      "metadata": {
        "id": "fZs6kIPe2jvq"
      },
      "execution_count": null,
      "outputs": []
    },
    {
      "cell_type": "code",
      "source": [
        "populacao_a = 80000\n",
        "taxa_a = 0.03\n",
        "populacao_b = 200000\n",
        "taxa_b = 0.015\n",
        "anos = 0\n",
        "\n",
        "while populacao_a < populacao_b:\n",
        "  populacao_a *= (1 + taxa_a)\n",
        "  populacao_b *= (1 + taxa_b)\n",
        "  anos += 1\n",
        "print(\"o numero de anos necessarios para que a populacao a ultrapasse a populacao b:\", anos)\n",
        "\n"
      ],
      "metadata": {
        "colab": {
          "base_uri": "https://localhost:8080/"
        },
        "id": "_C09GVc84s13",
        "outputId": "56fe3f0e-023b-449c-9c8d-e4b603475032"
      },
      "execution_count": 77,
      "outputs": [
        {
          "output_type": "stream",
          "name": "stdout",
          "text": [
            "o numero de anos necessarios para que a populacao a ultrapasse a populacao b: 63\n"
          ]
        }
      ]
    },
    {
      "cell_type": "code",
      "source": [
        "fatorial = 1\n",
        "contador = 1\n",
        "numero = int(input(\"digite um numero: \"))\n",
        "while contador <= numero:\n",
        "  fatorial *= contador\n",
        "  contador += 1\n",
        "\n",
        "print(f\"o fatorial de {numero} é {fatorial}\")"
      ],
      "metadata": {
        "colab": {
          "base_uri": "https://localhost:8080/"
        },
        "id": "Cc23oAJL_dRj",
        "outputId": "43f5953d-9d2d-4ba5-bd3d-a39185604900"
      },
      "execution_count": 90,
      "outputs": [
        {
          "output_type": "stream",
          "name": "stdout",
          "text": [
            "digite um numero: 5\n",
            "o fatorial de 5 é 120\n"
          ]
        }
      ]
    },
    {
      "cell_type": "code",
      "source": [
        "soma = 0\n",
        "quantia = 0\n",
        "numero =int(input(\"Digite um número inteiro( e 0 para sair): \"))\n",
        "while numero != 0:\n",
        "  numero =int(input(\"Digite um número inteiro( e 0 para sair): \"))\n",
        "  soma += numero\n",
        "  quantia += 1\n",
        "print(f\"a média é: {soma/quantia}\")\n",
        ""
      ],
      "metadata": {
        "colab": {
          "base_uri": "https://localhost:8080/"
        },
        "id": "QgXVMvGnpY8F",
        "outputId": "c781b2c9-7222-47a2-c810-445f7bd4c591"
      },
      "execution_count": 78,
      "outputs": [
        {
          "output_type": "stream",
          "name": "stdout",
          "text": [
            "Digite um número inteiro( e 0 para sair): 25\n",
            "Digite um número inteiro( e 0 para sair): 15\n",
            "Digite um número inteiro( e 0 para sair): 0\n",
            "a média é: 7.5\n"
          ]
        }
      ]
    },
    {
      "cell_type": "code",
      "source": [],
      "metadata": {
        "id": "VQDcGttqHX9c"
      },
      "execution_count": null,
      "outputs": []
    }
  ]
}